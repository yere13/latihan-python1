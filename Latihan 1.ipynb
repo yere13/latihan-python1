{
 "cells": [
  {
   "cell_type": "code",
   "execution_count": 1,
   "id": "b3b79bc6",
   "metadata": {},
   "outputs": [
    {
     "name": "stdout",
     "output_type": "stream",
     "text": [
      "Python 3.9.7\n"
     ]
    }
   ],
   "source": [
    "!python --version"
   ]
  },
  {
   "cell_type": "code",
   "execution_count": 2,
   "id": "eb0dc039",
   "metadata": {},
   "outputs": [
    {
     "name": "stdout",
     "output_type": "stream",
     "text": [
      "Hello World\n"
     ]
    }
   ],
   "source": [
    "print(\"Hello World\")"
   ]
  },
  {
   "cell_type": "markdown",
   "id": "154d0e27",
   "metadata": {},
   "source": [
    "# Variabel"
   ]
  },
  {
   "cell_type": "code",
   "execution_count": 3,
   "id": "b5dfab37",
   "metadata": {},
   "outputs": [],
   "source": [
    "name = 'Kota Salatiga'"
   ]
  },
  {
   "cell_type": "code",
   "execution_count": 4,
   "id": "12cd2f20",
   "metadata": {},
   "outputs": [
    {
     "data": {
      "text/plain": [
       "'Kota Salatiga'"
      ]
     },
     "execution_count": 4,
     "metadata": {},
     "output_type": "execute_result"
    }
   ],
   "source": [
    "name"
   ]
  },
  {
   "cell_type": "code",
   "execution_count": 5,
   "id": "a458f05f",
   "metadata": {},
   "outputs": [
    {
     "data": {
      "text/plain": [
       "str"
      ]
     },
     "execution_count": 5,
     "metadata": {},
     "output_type": "execute_result"
    }
   ],
   "source": [
    "type(name)"
   ]
  },
  {
   "cell_type": "code",
   "execution_count": 6,
   "id": "3ad7c6dc",
   "metadata": {},
   "outputs": [],
   "source": [
    "x = 1\n",
    "y = 1.5"
   ]
  },
  {
   "cell_type": "code",
   "execution_count": 7,
   "id": "2ad47004",
   "metadata": {},
   "outputs": [
    {
     "data": {
      "text/plain": [
       "(int, float)"
      ]
     },
     "execution_count": 7,
     "metadata": {},
     "output_type": "execute_result"
    }
   ],
   "source": [
    "type(x), type(y)"
   ]
  },
  {
   "cell_type": "code",
   "execution_count": 8,
   "id": "8cabbb18",
   "metadata": {},
   "outputs": [
    {
     "name": "stdout",
     "output_type": "stream",
     "text": [
      "Sekarang saya di  Kota Salatiga\n"
     ]
    }
   ],
   "source": [
    "print ('Sekarang saya di ', name)"
   ]
  },
  {
   "cell_type": "code",
   "execution_count": 9,
   "id": "4853cf54",
   "metadata": {},
   "outputs": [],
   "source": [
    "flag= False"
   ]
  },
  {
   "cell_type": "code",
   "execution_count": 11,
   "id": "942766cd",
   "metadata": {},
   "outputs": [
    {
     "data": {
      "text/plain": [
       "bool"
      ]
     },
     "execution_count": 11,
     "metadata": {},
     "output_type": "execute_result"
    }
   ],
   "source": [
    "type(flag)"
   ]
  },
  {
   "cell_type": "markdown",
   "id": "6fb57827",
   "metadata": {},
   "source": [
    "# Struktur Data"
   ]
  },
  {
   "cell_type": "markdown",
   "id": "e338c9b6",
   "metadata": {},
   "source": [
    "## List"
   ]
  },
  {
   "cell_type": "code",
   "execution_count": 12,
   "id": "f59fa0e2",
   "metadata": {},
   "outputs": [],
   "source": [
    "employee = list()"
   ]
  },
  {
   "cell_type": "code",
   "execution_count": 15,
   "id": "8c3a06be",
   "metadata": {},
   "outputs": [],
   "source": [
    "employe=[]"
   ]
  },
  {
   "cell_type": "code",
   "execution_count": 17,
   "id": "89c4e7eb",
   "metadata": {},
   "outputs": [],
   "source": [
    "employee = ['Kota','Salatiga','Hati','Beriman']"
   ]
  },
  {
   "cell_type": "code",
   "execution_count": 18,
   "id": "7b78c849",
   "metadata": {},
   "outputs": [
    {
     "data": {
      "text/plain": [
       "['Kota', 'Salatiga', 'Hati', 'Beriman']"
      ]
     },
     "execution_count": 18,
     "metadata": {},
     "output_type": "execute_result"
    }
   ],
   "source": [
    "employee"
   ]
  },
  {
   "cell_type": "markdown",
   "id": "f8fab4ca",
   "metadata": {},
   "source": [
    "## Slicing"
   ]
  },
  {
   "cell_type": "code",
   "execution_count": 19,
   "id": "4a6b9dff",
   "metadata": {},
   "outputs": [
    {
     "data": {
      "text/plain": [
       "'Kota'"
      ]
     },
     "execution_count": 19,
     "metadata": {},
     "output_type": "execute_result"
    }
   ],
   "source": [
    "employee[0]"
   ]
  },
  {
   "cell_type": "code",
   "execution_count": 20,
   "id": "05ff726c",
   "metadata": {},
   "outputs": [
    {
     "data": {
      "text/plain": [
       "['Kota', 'Salatiga']"
      ]
     },
     "execution_count": 20,
     "metadata": {},
     "output_type": "execute_result"
    }
   ],
   "source": [
    "employee[0:2]"
   ]
  },
  {
   "cell_type": "code",
   "execution_count": 21,
   "id": "d1e58931",
   "metadata": {},
   "outputs": [
    {
     "data": {
      "text/plain": [
       "['Hati', 'Beriman']"
      ]
     },
     "execution_count": 21,
     "metadata": {},
     "output_type": "execute_result"
    }
   ],
   "source": [
    "employee[2:]"
   ]
  },
  {
   "cell_type": "code",
   "execution_count": 22,
   "id": "2392cbe7",
   "metadata": {},
   "outputs": [
    {
     "data": {
      "text/plain": [
       "4"
      ]
     },
     "execution_count": 22,
     "metadata": {},
     "output_type": "execute_result"
    }
   ],
   "source": [
    "len(employee)"
   ]
  },
  {
   "cell_type": "code",
   "execution_count": 23,
   "id": "8b4fe133",
   "metadata": {},
   "outputs": [],
   "source": [
    "employee.append(\"Slogan\")"
   ]
  },
  {
   "cell_type": "code",
   "execution_count": 24,
   "id": "04b8525d",
   "metadata": {},
   "outputs": [
    {
     "data": {
      "text/plain": [
       "['Kota', 'Salatiga', 'Hati', 'Beriman', 'Slogan']"
      ]
     },
     "execution_count": 24,
     "metadata": {},
     "output_type": "execute_result"
    }
   ],
   "source": [
    "employee"
   ]
  },
  {
   "cell_type": "code",
   "execution_count": 25,
   "id": "0d9d188e",
   "metadata": {},
   "outputs": [
    {
     "data": {
      "text/plain": [
       "'Slogan'"
      ]
     },
     "execution_count": 25,
     "metadata": {},
     "output_type": "execute_result"
    }
   ],
   "source": [
    "employee.pop()"
   ]
  },
  {
   "cell_type": "code",
   "execution_count": 26,
   "id": "fc689cc8",
   "metadata": {},
   "outputs": [
    {
     "data": {
      "text/plain": [
       "['Kota', 'Salatiga', 'Hati', 'Beriman']"
      ]
     },
     "execution_count": 26,
     "metadata": {},
     "output_type": "execute_result"
    }
   ],
   "source": [
    "employee"
   ]
  },
  {
   "cell_type": "code",
   "execution_count": 27,
   "id": "d51c537d",
   "metadata": {},
   "outputs": [],
   "source": [
    "employee.sort()"
   ]
  },
  {
   "cell_type": "code",
   "execution_count": 28,
   "id": "9ab9cecd",
   "metadata": {},
   "outputs": [
    {
     "data": {
      "text/plain": [
       "['Beriman', 'Hati', 'Kota', 'Salatiga']"
      ]
     },
     "execution_count": 28,
     "metadata": {},
     "output_type": "execute_result"
    }
   ],
   "source": [
    "employee"
   ]
  },
  {
   "cell_type": "markdown",
   "id": "e157a52d",
   "metadata": {},
   "source": [
    "## Iterating List"
   ]
  },
  {
   "cell_type": "code",
   "execution_count": 29,
   "id": "c0b0f50f",
   "metadata": {},
   "outputs": [
    {
     "name": "stdout",
     "output_type": "stream",
     "text": [
      "Beriman\n",
      "Hati\n",
      "Kota\n",
      "Salatiga\n"
     ]
    }
   ],
   "source": [
    "for item in employee:\n",
    "    print(item)"
   ]
  },
  {
   "cell_type": "code",
   "execution_count": 30,
   "id": "944a384b",
   "metadata": {},
   "outputs": [
    {
     "name": "stdout",
     "output_type": "stream",
     "text": [
      "0\n",
      "1\n",
      "2\n",
      "3\n",
      "4\n",
      "5\n",
      "6\n",
      "7\n",
      "8\n",
      "9\n",
      "10\n",
      "11\n",
      "12\n",
      "13\n",
      "14\n",
      "15\n",
      "16\n",
      "17\n"
     ]
    }
   ],
   "source": [
    "for x in range(0,18):\n",
    "    print(x)"
   ]
  },
  {
   "cell_type": "code",
   "execution_count": 31,
   "id": "63cf5857",
   "metadata": {},
   "outputs": [],
   "source": [
    "#ini komentar"
   ]
  },
  {
   "cell_type": "code",
   "execution_count": 32,
   "id": "19422579",
   "metadata": {},
   "outputs": [
    {
     "name": "stdout",
     "output_type": "stream",
     "text": [
      "ada\n"
     ]
    }
   ],
   "source": [
    "for item in employee:\n",
    "    if item == \"Kota\":\n",
    "        print (\"ada\")\n",
    "    else:\n",
    "            pass"
   ]
  },
  {
   "cell_type": "code",
   "execution_count": 33,
   "id": "de11af80",
   "metadata": {},
   "outputs": [
    {
     "name": "stdout",
     "output_type": "stream",
     "text": [
      "0 Beriman\n",
      "1 Hati\n",
      "2 Kota\n",
      "3 Salatiga\n"
     ]
    }
   ],
   "source": [
    "for index, item in enumerate(employee):\n",
    "    print(index,item)"
   ]
  },
  {
   "cell_type": "code",
   "execution_count": 34,
   "id": "0dbef864",
   "metadata": {},
   "outputs": [
    {
     "name": "stdout",
     "output_type": "stream",
     "text": [
      "ada di index ke  2\n"
     ]
    }
   ],
   "source": [
    "for index, item in enumerate(employee):\n",
    "    #print(index,item)\n",
    "    if item == \"Kota\":\n",
    "        print (\"ada di index ke \", index)\n",
    "    else:\n",
    "            pass"
   ]
  },
  {
   "cell_type": "code",
   "execution_count": 35,
   "id": "3da34914",
   "metadata": {},
   "outputs": [],
   "source": [
    "koord =[[0,1],[2,3]]"
   ]
  },
  {
   "cell_type": "code",
   "execution_count": 36,
   "id": "3c988dfc",
   "metadata": {},
   "outputs": [
    {
     "data": {
      "text/plain": [
       "[[0, 1], [2, 3]]"
      ]
     },
     "execution_count": 36,
     "metadata": {},
     "output_type": "execute_result"
    }
   ],
   "source": [
    "koord"
   ]
  },
  {
   "cell_type": "code",
   "execution_count": 37,
   "id": "174a7619",
   "metadata": {},
   "outputs": [
    {
     "data": {
      "text/plain": [
       "[0, 1]"
      ]
     },
     "execution_count": 37,
     "metadata": {},
     "output_type": "execute_result"
    }
   ],
   "source": [
    "koord[0]"
   ]
  },
  {
   "cell_type": "code",
   "execution_count": 38,
   "id": "1c9487db",
   "metadata": {},
   "outputs": [
    {
     "data": {
      "text/plain": [
       "0"
      ]
     },
     "execution_count": 38,
     "metadata": {},
     "output_type": "execute_result"
    }
   ],
   "source": [
    "koord[0][0]"
   ]
  },
  {
   "cell_type": "markdown",
   "id": "93c8efac",
   "metadata": {},
   "source": [
    "# Dictionary"
   ]
  },
  {
   "cell_type": "code",
   "execution_count": 39,
   "id": "f73e3e44",
   "metadata": {},
   "outputs": [],
   "source": [
    "product = dict()"
   ]
  },
  {
   "cell_type": "code",
   "execution_count": 40,
   "id": "ff3b49b9",
   "metadata": {},
   "outputs": [],
   "source": [
    "produk={}"
   ]
  },
  {
   "cell_type": "code",
   "execution_count": 41,
   "id": "51643ed5",
   "metadata": {},
   "outputs": [],
   "source": [
    "product={'id':'001', 'name':'chocolate', 'price':1000}"
   ]
  },
  {
   "cell_type": "code",
   "execution_count": 42,
   "id": "3029fecd",
   "metadata": {},
   "outputs": [
    {
     "data": {
      "text/plain": [
       "dict_keys(['id', 'name', 'price'])"
      ]
     },
     "execution_count": 42,
     "metadata": {},
     "output_type": "execute_result"
    }
   ],
   "source": [
    "product.keys()"
   ]
  },
  {
   "cell_type": "code",
   "execution_count": 43,
   "id": "0f8f7823",
   "metadata": {},
   "outputs": [
    {
     "data": {
      "text/plain": [
       "'001'"
      ]
     },
     "execution_count": 43,
     "metadata": {},
     "output_type": "execute_result"
    }
   ],
   "source": [
    "product['id']"
   ]
  },
  {
   "cell_type": "code",
   "execution_count": 65,
   "id": "691ef309",
   "metadata": {},
   "outputs": [],
   "source": [
    "coffee=dict()\n",
    "coffee['id']='002'\n",
    "coffee['name']='coffee'\n",
    "coffee['price']=3000"
   ]
  },
  {
   "cell_type": "code",
   "execution_count": 66,
   "id": "782fdd29",
   "metadata": {},
   "outputs": [
    {
     "data": {
      "text/plain": [
       "{'id': '002', 'name': 'coffee', 'price': 3000}"
      ]
     },
     "execution_count": 66,
     "metadata": {},
     "output_type": "execute_result"
    }
   ],
   "source": [
    "coffee"
   ]
  },
  {
   "cell_type": "code",
   "execution_count": 69,
   "id": "5bd73051",
   "metadata": {},
   "outputs": [],
   "source": [
    "products=list()"
   ]
  },
  {
   "cell_type": "code",
   "execution_count": 72,
   "id": "bc60b358",
   "metadata": {},
   "outputs": [],
   "source": [
    "products.append(product)\n",
    "products.append(coffee)"
   ]
  },
  {
   "cell_type": "code",
   "execution_count": 73,
   "id": "fc983d74",
   "metadata": {},
   "outputs": [
    {
     "data": {
      "text/plain": [
       "[{'id': '001', 'name': 'chocolate', 'price': 1000},\n",
       " {'id': '002', 'name': 'coffee', 'price': 3000}]"
      ]
     },
     "execution_count": 73,
     "metadata": {},
     "output_type": "execute_result"
    }
   ],
   "source": [
    "products"
   ]
  },
  {
   "cell_type": "code",
   "execution_count": 74,
   "id": "03bfc72a",
   "metadata": {},
   "outputs": [
    {
     "data": {
      "text/plain": [
       "{'id': '001', 'name': 'chocolate', 'price': 1000}"
      ]
     },
     "execution_count": 74,
     "metadata": {},
     "output_type": "execute_result"
    }
   ],
   "source": [
    "products[0]"
   ]
  },
  {
   "cell_type": "code",
   "execution_count": 63,
   "id": "c4159646",
   "metadata": {},
   "outputs": [
    {
     "data": {
      "text/plain": [
       "'chocolate'"
      ]
     },
     "execution_count": 63,
     "metadata": {},
     "output_type": "execute_result"
    }
   ],
   "source": [
    "products[0]['name']"
   ]
  },
  {
   "cell_type": "code",
   "execution_count": 75,
   "id": "d4b9cfa6",
   "metadata": {},
   "outputs": [
    {
     "name": "stdout",
     "output_type": "stream",
     "text": [
      "chocolate  harganya:  1000\n",
      "coffee  harganya:  3000\n"
     ]
    }
   ],
   "source": [
    "for x in products:\n",
    "    print(x['name'],' harganya: ',x['price'])"
   ]
  },
  {
   "cell_type": "markdown",
   "id": "338a3f65",
   "metadata": {},
   "source": [
    "# Function"
   ]
  },
  {
   "cell_type": "code",
   "execution_count": 76,
   "id": "45cccb31",
   "metadata": {},
   "outputs": [],
   "source": [
    "def add(a,b):\n",
    "    return a+b"
   ]
  },
  {
   "cell_type": "code",
   "execution_count": 77,
   "id": "57e82ffe",
   "metadata": {},
   "outputs": [
    {
     "data": {
      "text/plain": [
       "5"
      ]
     },
     "execution_count": 77,
     "metadata": {},
     "output_type": "execute_result"
    }
   ],
   "source": [
    "add (1,4)"
   ]
  },
  {
   "cell_type": "code",
   "execution_count": 78,
   "id": "ab50a5e2",
   "metadata": {},
   "outputs": [],
   "source": [
    "def kali(a,b):\n",
    "    return a*b"
   ]
  },
  {
   "cell_type": "code",
   "execution_count": 79,
   "id": "14e87cc6",
   "metadata": {},
   "outputs": [
    {
     "data": {
      "text/plain": [
       "20"
      ]
     },
     "execution_count": 79,
     "metadata": {},
     "output_type": "execute_result"
    }
   ],
   "source": [
    "kali (5,4)"
   ]
  },
  {
   "cell_type": "code",
   "execution_count": 80,
   "id": "d11f2081",
   "metadata": {},
   "outputs": [],
   "source": [
    "import math"
   ]
  },
  {
   "cell_type": "code",
   "execution_count": 81,
   "id": "02a73b3b",
   "metadata": {},
   "outputs": [
    {
     "data": {
      "text/plain": [
       "2.302585092994046"
      ]
     },
     "execution_count": 81,
     "metadata": {},
     "output_type": "execute_result"
    }
   ],
   "source": [
    "math.log(10)"
   ]
  },
  {
   "cell_type": "code",
   "execution_count": 82,
   "id": "eb3923cd",
   "metadata": {},
   "outputs": [
    {
     "name": "stdout",
     "output_type": "stream",
     "text": [
      "['__doc__', '__loader__', '__name__', '__package__', '__spec__', 'acos', 'acosh', 'asin', 'asinh', 'atan', 'atan2', 'atanh', 'ceil', 'comb', 'copysign', 'cos', 'cosh', 'degrees', 'dist', 'e', 'erf', 'erfc', 'exp', 'expm1', 'fabs', 'factorial', 'floor', 'fmod', 'frexp', 'fsum', 'gamma', 'gcd', 'hypot', 'inf', 'isclose', 'isfinite', 'isinf', 'isnan', 'isqrt', 'lcm', 'ldexp', 'lgamma', 'log', 'log10', 'log1p', 'log2', 'modf', 'nan', 'nextafter', 'perm', 'pi', 'pow', 'prod', 'radians', 'remainder', 'sin', 'sinh', 'sqrt', 'tan', 'tanh', 'tau', 'trunc', 'ulp']\n"
     ]
    }
   ],
   "source": [
    "print(dir(math))"
   ]
  },
  {
   "cell_type": "code",
   "execution_count": 88,
   "id": "88542246",
   "metadata": {},
   "outputs": [],
   "source": [
    "from math import sin,cos,pi"
   ]
  },
  {
   "cell_type": "code",
   "execution_count": 84,
   "id": "050dcc4b",
   "metadata": {},
   "outputs": [
    {
     "data": {
      "text/plain": [
       "-0.9880316240928618"
      ]
     },
     "execution_count": 84,
     "metadata": {},
     "output_type": "execute_result"
    }
   ],
   "source": [
    "sin(30)"
   ]
  },
  {
   "cell_type": "code",
   "execution_count": 85,
   "id": "8d60b47e",
   "metadata": {},
   "outputs": [
    {
     "data": {
      "text/plain": [
       "-0.4480736161291701"
      ]
     },
     "execution_count": 85,
     "metadata": {},
     "output_type": "execute_result"
    }
   ],
   "source": [
    "cos(90)"
   ]
  },
  {
   "cell_type": "code",
   "execution_count": 86,
   "id": "97165ffe",
   "metadata": {},
   "outputs": [
    {
     "data": {
      "text/plain": [
       "1.0"
      ]
     },
     "execution_count": 86,
     "metadata": {},
     "output_type": "execute_result"
    }
   ],
   "source": [
    "cos(2*math.pi)"
   ]
  },
  {
   "cell_type": "code",
   "execution_count": 89,
   "id": "ea981702",
   "metadata": {},
   "outputs": [
    {
     "data": {
      "text/plain": [
       "1.0"
      ]
     },
     "execution_count": 89,
     "metadata": {},
     "output_type": "execute_result"
    }
   ],
   "source": [
    "cos(2*pi)"
   ]
  },
  {
   "cell_type": "markdown",
   "id": "c616a408",
   "metadata": {},
   "source": [
    "# OOP"
   ]
  },
  {
   "cell_type": "code",
   "execution_count": 90,
   "id": "89472740",
   "metadata": {},
   "outputs": [],
   "source": [
    "class ortu:\n",
    "    def fung(self):\n",
    "        print(\"Ini orang tuanya\")"
   ]
  },
  {
   "cell_type": "code",
   "execution_count": null,
   "id": "8110cc13",
   "metadata": {},
   "outputs": [],
   "source": [
    "class anak(ortu): #pewarisan\n",
    "    def fung2(self):\n",
    "        print (\"ini anaknya\")"
   ]
  },
  {
   "cell_type": "code",
   "execution_count": 92,
   "id": "551f6c23",
   "metadata": {},
   "outputs": [],
   "source": [
    "cd = anak()"
   ]
  },
  {
   "cell_type": "code",
   "execution_count": 93,
   "id": "c0aa5677",
   "metadata": {},
   "outputs": [
    {
     "name": "stdout",
     "output_type": "stream",
     "text": [
      "Ini orang tuanya\n"
     ]
    }
   ],
   "source": [
    "cd.fung()"
   ]
  },
  {
   "cell_type": "code",
   "execution_count": 94,
   "id": "2e1f55e9",
   "metadata": {},
   "outputs": [
    {
     "name": "stdout",
     "output_type": "stream",
     "text": [
      "ini anaknya\n"
     ]
    }
   ],
   "source": [
    "cd.fung2()"
   ]
  },
  {
   "cell_type": "markdown",
   "id": "38cc5c09",
   "metadata": {},
   "source": [
    "# Package Library"
   ]
  },
  {
   "cell_type": "markdown",
   "id": "67bb32a5",
   "metadata": {},
   "source": [
    "buat folder my_lib"
   ]
  },
  {
   "cell_type": "markdown",
   "id": "f14bd1e5",
   "metadata": {},
   "source": [
    "buat dalam folder tsb **kalkulator.py**"
   ]
  },
  {
   "cell_type": "code",
   "execution_count": 97,
   "id": "5fc69a8b",
   "metadata": {},
   "outputs": [],
   "source": [
    "!mkdir my_lib"
   ]
  },
  {
   "cell_type": "code",
   "execution_count": 98,
   "id": "c2cca2a3",
   "metadata": {},
   "outputs": [
    {
     "name": "stdout",
     "output_type": "stream",
     "text": [
      " Volume in drive C has no label.\n",
      " Volume Serial Number is 609D-2BD6\n",
      "\n",
      " Directory of C:\\Users\\Asus\n",
      "\n",
      "12/08/2021  02:42 PM    <DIR>          .\n",
      "12/08/2021  02:42 PM    <DIR>          ..\n",
      "12/08/2021  02:40 PM    <DIR>          .anaconda\n",
      "04/23/2020  12:37 PM    <DIR>          .android\n",
      "03/01/2020  02:41 AM    <DIR>          .cache\n",
      "12/08/2021  02:43 PM    <DIR>          .conda\n",
      "12/08/2021  02:41 PM                25 .condarc\n",
      "12/08/2021  02:41 PM    <DIR>          .continuum\n",
      "12/08/2021  02:00 PM    <DIR>          .ipynb_checkpoints\n",
      "12/08/2021  01:22 PM    <DIR>          .ipython\n",
      "12/08/2021  01:40 PM    <DIR>          .jupyter\n",
      "03/12/2020  03:35 PM    <DIR>          .m2\n",
      "07/31/2021  09:13 PM    <DIR>          .matplotlib\n",
      "03/02/2020  07:36 PM    <DIR>          .nbi\n",
      "03/02/2020  01:55 AM    <DIR>          .netbeans-derby\n",
      "03/01/2020  06:31 AM    <DIR>          .oracle_jre_usage\n",
      "07/31/2021  09:12 PM    <DIR>          .qgis2\n",
      "06/18/2021  07:53 PM                 0 1.osm\n",
      "05/20/2021  01:40 PM    <DIR>          3D Objects\n",
      "12/08/2021  12:04 PM    <DIR>          anaconda3\n",
      "05/20/2021  01:40 PM    <DIR>          Contacts\n",
      "10/07/2021  11:26 AM    <DIR>          Desktop\n",
      "12/08/2021  12:04 PM    <DIR>          Documents\n",
      "12/08/2021  11:51 AM    <DIR>          Downloads\n",
      "05/20/2021  01:40 PM    <DIR>          Favorites\n",
      "12/08/2021  02:42 PM            20,684 Latihan 1.ipynb\n",
      "05/20/2021  01:40 PM    <DIR>          Links\n",
      "05/20/2021  01:40 PM    <DIR>          Music\n",
      "12/08/2021  02:42 PM    <DIR>          my_lib\n",
      "10/01/2021  11:04 AM    <DIR>          OneDrive\n",
      "11/14/2021  05:50 PM    <DIR>          Pictures\n",
      "06/15/2021  01:15 PM    <DIR>          Postman\n",
      "05/20/2021  01:40 PM    <DIR>          Saved Games\n",
      "05/20/2021  01:40 PM    <DIR>          Searches\n",
      "12/08/2021  01:47 PM             2,602 Untitled.ipynb\n",
      "12/08/2021  01:58 PM             2,568 Untitled1.ipynb\n",
      "10/07/2021  08:12 PM    <DIR>          Videos\n",
      "               5 File(s)         25,879 bytes\n",
      "              32 Dir(s)  17,518,514,176 bytes free\n"
     ]
    }
   ],
   "source": [
    "!dir"
   ]
  },
  {
   "cell_type": "code",
   "execution_count": 99,
   "id": "487dc823",
   "metadata": {},
   "outputs": [],
   "source": [
    "from my_lib.kalkulator import kalkulator"
   ]
  },
  {
   "cell_type": "code",
   "execution_count": 102,
   "id": "57b9bec1",
   "metadata": {},
   "outputs": [],
   "source": [
    "kal = kalkulator(7,8)"
   ]
  },
  {
   "cell_type": "code",
   "execution_count": 103,
   "id": "878532e8",
   "metadata": {},
   "outputs": [],
   "source": [
    "kal.x=6\n",
    "kal.y=5"
   ]
  },
  {
   "cell_type": "code",
   "execution_count": 104,
   "id": "279a98ee",
   "metadata": {},
   "outputs": [
    {
     "data": {
      "text/plain": [
       "6"
      ]
     },
     "execution_count": 104,
     "metadata": {},
     "output_type": "execute_result"
    }
   ],
   "source": [
    "kal.x"
   ]
  },
  {
   "cell_type": "code",
   "execution_count": 105,
   "id": "e52c8e95",
   "metadata": {},
   "outputs": [
    {
     "data": {
      "text/plain": [
       "5"
      ]
     },
     "execution_count": 105,
     "metadata": {},
     "output_type": "execute_result"
    }
   ],
   "source": [
    "kal.y"
   ]
  },
  {
   "cell_type": "code",
   "execution_count": 106,
   "id": "99613446",
   "metadata": {},
   "outputs": [
    {
     "data": {
      "text/plain": [
       "0"
      ]
     },
     "execution_count": 106,
     "metadata": {},
     "output_type": "execute_result"
    }
   ],
   "source": [
    "kal.z"
   ]
  },
  {
   "cell_type": "code",
   "execution_count": 109,
   "id": "d6bb68d6",
   "metadata": {},
   "outputs": [],
   "source": [
    "kal.kali()"
   ]
  },
  {
   "cell_type": "code",
   "execution_count": 110,
   "id": "029267ac",
   "metadata": {},
   "outputs": [
    {
     "data": {
      "text/plain": [
       "30"
      ]
     },
     "execution_count": 110,
     "metadata": {},
     "output_type": "execute_result"
    }
   ],
   "source": [
    "kal.z"
   ]
  },
  {
   "cell_type": "code",
   "execution_count": 111,
   "id": "b761a4b5",
   "metadata": {},
   "outputs": [],
   "source": [
    "kal.tambah()"
   ]
  },
  {
   "cell_type": "code",
   "execution_count": 112,
   "id": "e00f2724",
   "metadata": {},
   "outputs": [
    {
     "data": {
      "text/plain": [
       "15"
      ]
     },
     "execution_count": 112,
     "metadata": {},
     "output_type": "execute_result"
    }
   ],
   "source": [
    "kal.c"
   ]
  },
  {
   "cell_type": "code",
   "execution_count": 114,
   "id": "0c50850f",
   "metadata": {},
   "outputs": [],
   "source": [
    "from my_lib.cek import cek"
   ]
  },
  {
   "cell_type": "code",
   "execution_count": null,
   "id": "095aa4a7",
   "metadata": {},
   "outputs": [],
   "source": []
  },
  {
   "cell_type": "code",
   "execution_count": null,
   "id": "9d789ae1",
   "metadata": {},
   "outputs": [],
   "source": []
  },
  {
   "cell_type": "markdown",
   "id": "4ad942da",
   "metadata": {},
   "source": [
    "# Args, *Kwargs"
   ]
  },
  {
   "cell_type": "code",
   "execution_count": 115,
   "id": "83a90f54",
   "metadata": {},
   "outputs": [],
   "source": [
    "def print_name(*args):\n",
    "    for nama in args:\n",
    "        print(nama)"
   ]
  },
  {
   "cell_type": "code",
   "execution_count": 116,
   "id": "e5a1743c",
   "metadata": {},
   "outputs": [
    {
     "name": "stdout",
     "output_type": "stream",
     "text": [
      "Yeremia Alfa Susetyo\n"
     ]
    }
   ],
   "source": [
    "print(\"Yeremia\",\"Alfa\",\"Susetyo\")"
   ]
  },
  {
   "cell_type": "code",
   "execution_count": 119,
   "id": "3c1a47e9",
   "metadata": {},
   "outputs": [],
   "source": [
    "def print_karyawan(**kwargs):\n",
    "    print(kwargs['nama'])\n",
    "    print(kwargs['alamat'])"
   ]
  },
  {
   "cell_type": "code",
   "execution_count": 129,
   "id": "babfc5d9",
   "metadata": {},
   "outputs": [
    {
     "name": "stdout",
     "output_type": "stream",
     "text": [
      "yere\n",
      "salatiga\n"
     ]
    }
   ],
   "source": [
    "print_karyawan(nama=\"yere\", alamat=\"salatiga\")"
   ]
  },
  {
   "cell_type": "code",
   "execution_count": null,
   "id": "dedc65d2",
   "metadata": {},
   "outputs": [],
   "source": []
  }
 ],
 "metadata": {
  "kernelspec": {
   "display_name": "tf-deeplearning",
   "language": "python",
   "name": "tf-deeplearning"
  },
  "language_info": {
   "codemirror_mode": {
    "name": "ipython",
    "version": 3
   },
   "file_extension": ".py",
   "mimetype": "text/x-python",
   "name": "python",
   "nbconvert_exporter": "python",
   "pygments_lexer": "ipython3",
   "version": "3.9.7"
  }
 },
 "nbformat": 4,
 "nbformat_minor": 5
}
